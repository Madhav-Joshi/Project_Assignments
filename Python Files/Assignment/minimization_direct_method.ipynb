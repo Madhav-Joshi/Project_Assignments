{
 "metadata": {
  "language_info": {
   "codemirror_mode": {
    "name": "ipython",
    "version": 3
   },
   "file_extension": ".py",
   "mimetype": "text/x-python",
   "name": "python",
   "nbconvert_exporter": "python",
   "pygments_lexer": "ipython3",
   "version": "3.8.5-final"
  },
  "orig_nbformat": 2,
  "kernelspec": {
   "name": "python3",
   "display_name": "Python 3",
   "language": "python"
  }
 },
 "nbformat": 4,
 "nbformat_minor": 2,
 "cells": [
  {
   "source": [
    "# Question\n",
    "$$ \n",
    "\\min_{p \\in \\mathbb{R}^{100\\times 1}} ||x||^2 \\text{ where } x \\in \\mathbb{R}^{100\\times 1}\\text{ such that } A(p)x=b(p) \\\\\n",
    "\\text{where } A(p)=I_{100\\times 100} + pp^T \\text{ and } b(p)=1_{100\\times 1} \n",
    "$$"
   ],
   "cell_type": "markdown",
   "metadata": {}
  },
  {
   "cell_type": "code",
   "execution_count": 1,
   "metadata": {},
   "outputs": [],
   "source": [
    "import numpy as np \n",
    "from numpy import array as arr "
   ]
  },
  {
   "cell_type": "code",
   "execution_count": 37,
   "metadata": {},
   "outputs": [
    {
     "output_type": "execute_result",
     "data": {
      "text/plain": [
       "array([[-35.7037037 ,   1.33333333,   1.33333333,   1.33333333,\n",
       "          1.33333333,   1.33333333,   1.33333333,   1.33333333,\n",
       "          1.33333333,   1.33333333]])"
      ]
     },
     "metadata": {},
     "execution_count": 37
    }
   ],
   "source": [
    "# Trial\n",
    "'''p = np.zeros((10,1))\n",
    "p[0,0]+=2\n",
    "A = np.identity(10) - np.matmul(p,p.T)\n",
    "b = np.ones((10,1))\n",
    "A_inv = np.linalg.inv(A)\n",
    "x = np.matmul(A_inv,b)\n",
    "\n",
    "dxf = 2*x.T\n",
    "dpb = np.zeros((10,10))\n",
    "\n",
    "# Making Partial of A wrt p\n",
    "dpA = np.zeros((10,10,10))\n",
    "for i in range(10):\n",
    "    dpA[:,i,i] += p.reshape(dpA[:,i,i].shape)\n",
    "    dpA[i,i,:] += p.reshape(dpA[i,i,:].shape)\n",
    "\n",
    "# Partial of x wrt p\n",
    "dpx = np.matmul(A_inv,dpb-np.swapaxes(np.matmul(dpA,np.tile(x,(10,1,1))),0,2).reshape(dpb.shape))\n",
    "\n",
    "# Partial of g wrt p\n",
    "dpg = np.matmul(dxf,dpx)\n",
    "dpg'''"
   ]
  },
  {
   "cell_type": "code",
   "execution_count": 54,
   "metadata": {},
   "outputs": [
    {
     "output_type": "stream",
     "name": "stdout",
     "text": [
      "Number of iterations = 1\n[[4.99999935]\n [4.99999935]\n [4.99999935]\n [4.99999935]\n [4.99999935]\n [4.99999935]\n [4.99999935]\n [4.99999935]\n [4.99999935]\n [4.99999935]]\n[[1.2954837e-05 1.2954837e-05 1.2954837e-05 1.2954837e-05 1.2954837e-05\n  1.2954837e-05 1.2954837e-05 1.2954837e-05 1.2954837e-05 1.2954837e-05]]\n"
     ]
    }
   ],
   "source": [
    "n = 0.05 # Gradient descent factor\n",
    "dpg = 1 # initialize with arbitrary large value\n",
    "iter_count = 0 # Number of iterations\n",
    "p = 5*np.ones((10,1)) # Guess p\n",
    "while np.linalg.norm(dpg)>0.001:\n",
    "    # Find dg/dp\n",
    "    iter_count+=1 # Update counter\n",
    "\n",
    "    # Define A(p), b(p)\n",
    "    A = np.identity(10) - np.matmul(p,p.T)\n",
    "    b = np.ones((10,1))\n",
    "\n",
    "    A_inv = np.linalg.inv(A) # Find inverse of A\n",
    "    x = np.matmul(A_inv,b) # Find x\n",
    "\n",
    "    dxf = 2*x.T # Partial of f(x) wrt x\n",
    "    dpb = np.zeros((10,10)) # Partial of b wrt p\n",
    "\n",
    "    # Making Partial of A wrt p i.e. find in terms of variable on paper then make it here\n",
    "    dpA = np.zeros((10,10,10))\n",
    "    for i in range(10):\n",
    "        dpA[:,i,i] += p.reshape(dpA[:,i,i].shape)\n",
    "        dpA[i,i,:] += p.reshape(dpA[i,i,:].shape)\n",
    "        \n",
    "    # Partial of x wrt p\n",
    "    dpx = np.matmul(A_inv,dpb-np.swapaxes(np.matmul(dpA,np.tile(x,(10,1,1))),0,2).reshape(dpb.shape))\n",
    "\n",
    "    # Partial of g wrt p as partial of f wrt x times partial of x wrt p i.e. chain rule\n",
    "    dpg = np.matmul(dxf,dpx)\n",
    "\n",
    "    # Update p\n",
    "    p = p - n*dpg.T \n",
    "\n",
    "    # Print iteration number\n",
    "    #print(iter_count)\n",
    "\n",
    "print(f'Number of iterations = {iter_count}')\n",
    "print(p)\n",
    "print(dpg)\n"
   ]
  }
 ]
}